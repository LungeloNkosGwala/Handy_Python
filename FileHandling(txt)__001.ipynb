{
 "cells": [
  {
   "cell_type": "markdown",
   "id": "4535e992-ffdf-4780-9296-06d05f231cbb",
   "metadata": {},
   "source": [
    "## **<span style= \"color:red\">Basic File Handling with Python</span>**"
   ]
  },
  {
   "cell_type": "markdown",
   "id": "0f9f157c-3196-466c-9d1e-6af7dd7a0b34",
   "metadata": {},
   "source": [
    "#### **<span style= \"color:blue\">1. File Name and Mode</span>**"
   ]
  },
  {
   "cell_type": "code",
   "execution_count": 67,
   "id": "3517a9ca-3d87-4f33-ae4c-9719d85f26be",
   "metadata": {},
   "outputs": [
    {
     "name": "stdout",
     "output_type": "stream",
     "text": [
      "1. test.txt\n",
      "2. r\n"
     ]
    }
   ],
   "source": [
    "f = open(\"test.txt\",\"r\")\n",
    "\n",
    "#Name of File\n",
    "print(\"1. \" +f.name)\n",
    "\n",
    "#Mode the file is currently open with\n",
    "print(\"2. \"+f.mode)\n",
    "\n",
    "f.close()\n"
   ]
  },
  {
   "cell_type": "markdown",
   "id": "1f0abfd0-0a29-4b72-acc8-7e1e20a0a0b4",
   "metadata": {},
   "source": [
    "#### **<span style= \"color:blue\">2. Reading in Files</span>**"
   ]
  },
  {
   "cell_type": "code",
   "execution_count": 68,
   "id": "444d5aa3-7f12-4dee-9383-d543aa6df2ed",
   "metadata": {},
   "outputs": [
    {
     "name": "stdout",
     "output_type": "stream",
     "text": [
      "Method 1...............................\n",
      "1. Python\n",
      "2. Swift\n",
      "3. Kotlin\n",
      "4. Javascript\n",
      "6. C++\n",
      "7. C+\n",
      "8. Java\n",
      "9. Go\n",
      "10. HTML\n",
      "11. CSS\n",
      "12. Assembly\n",
      "13. Rust\n",
      "14. Ruby\n",
      "15. PHP\n",
      "\n",
      "Method 2...............................\n",
      "['1. Python\\n', '2. Swift\\n', '3. Kotlin\\n', '4. Javascript\\n', '6. C++\\n', '7. C+\\n', '8. Java\\n', '9. Go\\n', '10. HTML\\n', '11. CSS\\n', '12. Assembly\\n', '13. Rust\\n', '14. Ruby\\n', '15. PHP\\n']\n",
      "Method 3................................\n",
      "*NB Only one line get printed for each print statement\n",
      "1. Python\n",
      "Method 4................................\n",
      "1. Python\n",
      "2. Swift\n",
      "3. Kotlin\n",
      "4. Javascript\n",
      "6. C++\n",
      "7. C+\n",
      "8. Java\n",
      "9. Go\n",
      "10. HTML\n",
      "11. CSS\n",
      "12. Assembly\n",
      "13. Rust\n",
      "14. Ruby\n",
      "15. PHP\n"
     ]
    }
   ],
   "source": [
    "#Reading file Contents\n",
    "print(\"Method 1...............................\")\n",
    "with open(\"test.txt\",\"r\") as f:\n",
    "    f_contents = f.read()\n",
    "    print(f_contents)\n",
    "    \n",
    "print(\"Method 2...............................\")    \n",
    "with open(\"test.txt\",\"r\") as f:\n",
    "    f_contents = f.readlines()\n",
    "    print(f_contents)\n",
    "    \n",
    "    \n",
    "print(\"Method 3................................\")\n",
    "print(\"*NB Only one line get printed for each print statement\")\n",
    "with open(\"test.txt\",\"r\") as f:\n",
    "    f_contents = f.readline()\n",
    "    print(f_contents,end=\"\")\n",
    "    \n",
    "    \n",
    "print(\"Method 4................................\")\n",
    "with open(\"test.txt\", \"r\") as f:\n",
    "    for line in f:\n",
    "        print(line, end=\"\")\n"
   ]
  },
  {
   "cell_type": "markdown",
   "id": "eff5dae3-c06e-46d2-b3cc-3b879b82594c",
   "metadata": {},
   "source": []
  },
  {
   "cell_type": "markdown",
   "id": "a2876b4a-2f9b-420e-8af5-aeef215512d6",
   "metadata": {},
   "source": [
    "#### **<span style=\"color:blue\">3. Best practises for Reading File</span>**"
   ]
  },
  {
   "cell_type": "code",
   "execution_count": 74,
   "id": "457a877a-0870-45d3-97cd-c27b82412532",
   "metadata": {},
   "outputs": [
    {
     "name": "stdout",
     "output_type": "stream",
     "text": [
      "1. Python\n",
      "2. Swift\n",
      "3. Kotlin\n",
      "4. Javascript\n",
      "6. C++\n",
      "7. C+\n",
      "8. Java\n",
      "9. Go\n",
      "10. HTML\n",
      "11. CSS\n",
      "12. Assembly\n",
      "13. Rust\n",
      "14. Ruby\n",
      "15. PHP\n"
     ]
    }
   ],
   "source": [
    "with open(\"test.txt\", 'r') as f:\n",
    "    size = 3\n",
    "    f_contents = f.read(size)\n",
    "    while len(f_contents) > 0:\n",
    "        print(f_contents, end=\"\")\n",
    "        f_contents = f.read(size)\n"
   ]
  },
  {
   "cell_type": "markdown",
   "id": "cb9da762-b8d6-447c-993f-289d10933f92",
   "metadata": {},
   "source": [
    "#### **<span style=\"color:blue\">3.1 See Positions of the size</span>**"
   ]
  },
  {
   "cell_type": "code",
   "execution_count": 73,
   "id": "db6f0550-9598-4918-be1c-28192a9daa40",
   "metadata": {},
   "outputs": [
    {
     "name": "stdout",
     "output_type": "stream",
     "text": [
      "1. *Pyt*hon*\n",
      "2.* Sw*ift*\n",
      "3.* Ko*tli*n\n",
      "4*. J*ava*scr*ipt*\n",
      "6.* C+*+\n",
      "7*. C*+\n",
      "8*. J*ava*\n",
      "9.* Go*\n",
      "10*. H*TML*\n",
      "11*. C*SS\n",
      "*12.* As*sem*bly*\n",
      "13*. R*ust*\n",
      "14*. R*uby*\n",
      "15*. P*HP\n",
      "*"
     ]
    }
   ],
   "source": [
    "with open(\"test.txt\", 'r') as f:\n",
    "    size = 3\n",
    "    f_contents = f.read(size)\n",
    "    while len(f_contents) > 0:\n",
    "        print(f_contents, end=\"*\")\n",
    "        f_contents = f.read(size)"
   ]
  },
  {
   "cell_type": "markdown",
   "id": "4fc92247-2769-4624-948d-8b86e38104b5",
   "metadata": {},
   "source": [
    "#### **<span style=\"color:blue\">4. Writing Files</span>**"
   ]
  },
  {
   "cell_type": "code",
   "execution_count": 88,
   "id": "93568efc-d468-4fc9-8144-24d294a010b9",
   "metadata": {},
   "outputs": [],
   "source": [
    "#Writng from One file to another\n",
    "with open(\"test.txt\",\"r\") as rf:\n",
    "    with open(\"test2.txt\",\"w\") as wf:\n",
    "        for line in rf:\n",
    "            wf.write(line)"
   ]
  },
  {
   "cell_type": "code",
   "execution_count": 85,
   "id": "2872b6f1-730a-4f0e-9f7e-f0ac99eb8141",
   "metadata": {},
   "outputs": [],
   "source": [
    "##Overrides from the Position of variable seek. \n",
    "with open(\"test2.txt\", \"w\") as f:\n",
    "    f.write(\"1. Python\")\n",
    "    f.seek(2)\n",
    "    f.write(\"2. Swift\")"
   ]
  },
  {
   "cell_type": "code",
   "execution_count": null,
   "id": "562121e0-b385-417c-acf3-01c671fbe3a1",
   "metadata": {},
   "outputs": [],
   "source": []
  }
 ],
 "metadata": {
  "kernelspec": {
   "display_name": "Python 3 (ipykernel)",
   "language": "python",
   "name": "python3"
  },
  "language_info": {
   "codemirror_mode": {
    "name": "ipython",
    "version": 3
   },
   "file_extension": ".py",
   "mimetype": "text/x-python",
   "name": "python",
   "nbconvert_exporter": "python",
   "pygments_lexer": "ipython3",
   "version": "3.9.7"
  }
 },
 "nbformat": 4,
 "nbformat_minor": 5
}
